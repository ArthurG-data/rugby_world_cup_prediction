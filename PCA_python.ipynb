{
 "cells": [
  {
   "cell_type": "markdown",
   "id": "01fea9ba-2a0f-4f85-88a0-db7d8b38c7f7",
   "metadata": {},
   "source": [
    "# The Library"
   ]
  },
  {
   "cell_type": "code",
   "execution_count": 3,
   "id": "03b442e2-1aaf-4578-a102-f4a0908eafcc",
   "metadata": {},
   "outputs": [],
   "source": [
    "import pandas as pd\n",
    "import os"
   ]
  },
  {
   "cell_type": "code",
   "execution_count": null,
   "id": "2f3f97ab-4e24-4778-a07b-07054de01a20",
   "metadata": {},
   "outputs": [],
   "source": [
    "import warnings\n",
    "warnings.filterwarnings('ignore')"
   ]
  },
  {
   "cell_type": "markdown",
   "id": "f35fdf5d-1017-43a1-86ef-5319d267f2e3",
   "metadata": {},
   "source": [
    "# The Necessary Files"
   ]
  },
  {
   "cell_type": "code",
   "execution_count": 4,
   "id": "0876af8f-af3e-4cda-8d2a-298bba03b081",
   "metadata": {},
   "outputs": [],
   "source": [
    "current_dir = os.getcwd()\n",
    "folder = '/data/results_international/'\n",
    "result_file = 'adj_final_results.csv'\n",
    "rubicology_file = 'all_games_RWC2023_fixed.csv'"
   ]
  },
  {
   "cell_type": "markdown",
   "id": "66ca1154-d0f2-4a04-9705-530b1542080b",
   "metadata": {},
   "source": [
    "# First exploration: Any upsets?"
   ]
  },
  {
   "cell_type": "code",
   "execution_count": null,
   "id": "4fb52161-05e3-46fb-84cf-db31a1c8962b",
   "metadata": {},
   "outputs": [],
   "source": [
    "#first get the rating of the teams\n"
   ]
  }
 ],
 "metadata": {
  "kernelspec": {
   "display_name": "Python 3 (ipykernel)",
   "language": "python",
   "name": "python3"
  },
  "language_info": {
   "codemirror_mode": {
    "name": "ipython",
    "version": 3
   },
   "file_extension": ".py",
   "mimetype": "text/x-python",
   "name": "python",
   "nbconvert_exporter": "python",
   "pygments_lexer": "ipython3",
   "version": "3.10.12"
  }
 },
 "nbformat": 4,
 "nbformat_minor": 5
}
